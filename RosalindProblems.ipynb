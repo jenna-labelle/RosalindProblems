{
 "cells": [
  {
   "cell_type": "markdown",
   "metadata": {},
   "source": [
    "## Import all modules"
   ]
  },
  {
   "cell_type": "code",
   "execution_count": 266,
   "metadata": {
    "slideshow": {
     "slide_type": "slide"
    }
   },
   "outputs": [],
   "source": [
    "from Bio import Seq\n",
    "import urllib\n",
    "from Bio import Entrez\n",
    "from Bio import SeqIO\n",
    "import statistics as stat"
   ]
  },
  {
   "cell_type": "markdown",
   "metadata": {},
   "source": [
    "## Problem 1: Count the number of each nt in a string"
   ]
  },
  {
   "cell_type": "code",
   "execution_count": 175,
   "metadata": {},
   "outputs": [
    {
     "name": "stdout",
     "output_type": "stream",
     "text": [
      "Occurences of A/C/G/T:\n"
     ]
    },
    {
     "data": {
      "text/plain": [
       "'207 189 214 190'"
      ]
     },
     "execution_count": 175,
     "metadata": {},
     "output_type": "execute_result"
    }
   ],
   "source": [
    "#read in string\n",
    "wd= \"/mnt/c/Users/jenna/OneDrive/Desktop/Rosalind/\"\n",
    "filepath=wd+\"rosalind_ini.txt\"\n",
    "seq = open(filepath, 'r').read().replace('\\n', '')\n",
    "    \n",
    "#Print out the number of times each occurs\n",
    "counts=[seq.count(\"A\"), seq.count(\"C\"), seq.count(\"G\"), seq.count(\"T\")]\n",
    "print(\"Occurences of A/C/G/T:\")\n",
    "\" \".join(map(str, counts))\n"
   ]
  },
  {
   "cell_type": "markdown",
   "metadata": {},
   "source": [
    "## Problem 2: Given a protein's ID, retrieve a list of biological processes it's involved in from UniProt"
   ]
  },
  {
   "cell_type": "code",
   "execution_count": 121,
   "metadata": {},
   "outputs": [
    {
     "name": "stdout",
     "output_type": "stream",
     "text": [
      "GO terms for given protein id:\n",
      "cytoplasm\n",
      "ATP binding\n",
      "glycine-tRNA ligase activity\n",
      "protein dimerization activity\n",
      "glycyl-tRNA aminoacylation\n"
     ]
    }
   ],
   "source": [
    "#Read in id\n",
    "wd= \"/mnt/c/Users/jenna/OneDrive/Desktop/Rosalind/\"\n",
    "filepath=wd+\"rosalind_ini.txt\"\n",
    "\n",
    "#get url for id\n",
    "url=\"http://www.uniprot.org/uniprot/\"+ id + \".txt\"\n",
    "\n",
    "#open up url\n",
    "content=urllib.request.urlopen(url) \n",
    "\n",
    "#iterate through each line, saving lines with \"GO\", then split up to print just the process names\n",
    "print(\"GO terms for given protein id:\")\n",
    "for line in content: \n",
    "    line=str(line)\n",
    "    if \"GO\" in line:\n",
    "        groups=line.split(\";\")\n",
    "        group2=\";\".join(groups[2:3])\n",
    "        print(group2.split(\":\")[1])"
   ]
  },
  {
   "cell_type": "markdown",
   "metadata": {},
   "source": [
    "## Problem 3: given a genus name and a range of dates, return the number of entries in Nucleotide GenBank"
   ]
  },
  {
   "cell_type": "code",
   "execution_count": 209,
   "metadata": {},
   "outputs": [
    {
     "name": "stdout",
     "output_type": "stream",
     "text": [
      "Number of records for genus in given time frame: 989\n"
     ]
    }
   ],
   "source": [
    "#read in search terms\n",
    "wd= \"/mnt/c/Users/jenna/OneDrive/Desktop/Rosalind/\"\n",
    "filepath=wd+\"rosalind_gbk.txt\"\n",
    "searchList=open(filepath,'r').read().split(\"\\n\")\n",
    "\n",
    "#assign to name. Assumes in format of genus \\n start date \\n end date\n",
    "genus=searchList[0]\n",
    "firstdate=searchList[1]\n",
    "seconddate=searchList[2]\n",
    "\n",
    "#get query to use\n",
    "query= f'({genus}[Organism]) AND(\"{firstdate}\"[Publication Date]: \"{seconddate}\"[Publication Date])'\n",
    "\n",
    "#get the handle for the given organism\n",
    "handle = Entrez.esearch(db=\"nucleotide\", term=query)\n",
    "\n",
    "#read record of the handle, print out the count\n",
    "record = Entrez.read(handle)\n",
    "print(\"Number of records for genus in given time frame: \" + record[\"Count\"])"
   ]
  },
  {
   "cell_type": "markdown",
   "metadata": {},
   "source": [
    "## Problem 4: given list of genbank gene IDs, return the fasta file of the gene with the shortest header"
   ]
  },
  {
   "cell_type": "code",
   "execution_count": 213,
   "metadata": {},
   "outputs": [],
   "source": [
    "#read in IDs\n",
    "wd= \"/mnt/c/Users/jenna/OneDrive/Desktop/Rosalind/\"\n",
    "filepath=wd+\"rosalind_frmt.txt\"\n",
    "IDs=open(filepath).read().replace(\"\\n\", \"\").split(\" \")"
   ]
  },
  {
   "cell_type": "code",
   "execution_count": 214,
   "metadata": {},
   "outputs": [
    {
     "name": "stdout",
     "output_type": "stream",
     "text": [
      ">JX295575.1 Anopheles sinensis prophenoloxidase 1 (PPO-1) mRNA, partial cds\n",
      "AACCTGCATCATTGGCATTGGCATCTTGTGTACCCGGGCGAAGGGCCCGATCGTGTCGTC\n",
      "AACAAGGATCGTCGTGGAGAGTTGTTCTACTACATGCACCAGCAGCTGATCGCTCGCTAC\n",
      "AACGTCGATCGCTTCTGCAACCGTTTGGCGCGGGTGCGTCCACTGACGAATCTGCGTGAG\n",
      "CCTCTTCCGGAGGGATACTTCCCGAAACTCATCCGAAGCTTCACCAACCGTGCCTTCCCT\n",
      "GCCCGACCTCAGAACCATATGTTGAGGGATTTGAATCGCATTGAGGACGATGTGGTACTC\n",
      "TCGATCAGTGATCTGGAACGCTGGGGAAGCCGCATTGCCGAGAGCATTGATGGTGGATAC\n",
      "GTGGTGGGCCCCGGTGGTGCACGTACTCCTCTGGATGAACAAACGGGTATCGACGTGCTG\n",
      "GGCAACATCATGGAACCGTCGGCACTGTCGGTGAACCCGCAATTCTATGGAAACTACCAT\n",
      "GGCCATATGCACAATCTCATCGCGTTCAGTCACGATCCTGAGAACCGCTTCCTGGAGGGG\n",
      "TACGGTGTGGTGGGCGAGTTCCAGACGGCCATGCGTGACCCTACGTTCTACCGCTGG\n",
      "\n"
     ]
    }
   ],
   "source": [
    "#get the handle for the given IDs, returning fasta data\n",
    "handle = Entrez.efetch(db=\"nucleotide\", id=IDs, rettype=\"fasta\")\n",
    "\n",
    "#use SeqIO to read in record as fasta format\n",
    "records = list (SeqIO.parse(handle, \"fasta\")) \n",
    "\n",
    "#get index of fasta with shortest description\n",
    "lengths=[]\n",
    "\n",
    "for record in records:\n",
    "    lengths.append(len(record.seq))\n",
    "    \n",
    "minIndex=lengths.index(min(lengths))\n",
    "\n",
    "#Print out this fasta record\n",
    "print(records[minIndex].format(\"fasta\"))\n",
    "    "
   ]
  },
  {
   "cell_type": "markdown",
   "metadata": {},
   "source": [
    "## Problem 5: given a file with fastqs, convert to fasta"
   ]
  },
  {
   "cell_type": "code",
   "execution_count": 236,
   "metadata": {},
   "outputs": [],
   "source": [
    "#get path to string\n",
    "wd= \"/mnt/c/Users/jenna/OneDrive/Desktop/Rosalind/\"\n",
    "filepath=wd+\"rosalind_tfsq.txt\"\n",
    "\n",
    "#write out to fasta\n",
    "SeqIO.convert(filepath,'fastq','test.fasta.txt','fasta')\n"
   ]
  },
  {
   "cell_type": "markdown",
   "metadata": {},
   "source": [
    "## Problem 6: given a file with fastqs + quality threshold, print the number of fastqs that pass that threshold"
   ]
  },
  {
   "cell_type": "code",
   "execution_count": 300,
   "metadata": {},
   "outputs": [],
   "source": [
    "#read in fastq as normal text, extract threshold\n",
    "file=\"rosalind_phre.txt\"\n",
    "fileSplit=open(wd+file).read().split(\"\\n\")\n",
    "thresh=int(fileSplit[0])\n",
    "\n",
    "#remove first line (threshold) from fastq, then write back out as same file\n",
    "with open(file, 'r') as fin:\n",
    "    data = fin.read().splitlines(True)\n",
    "with open(file, 'w') as fout:\n",
    "    fout.writelines(data[1:])"
   ]
  },
  {
   "cell_type": "code",
   "execution_count": 302,
   "metadata": {},
   "outputs": [
    {
     "name": "stdout",
     "output_type": "stream",
     "text": [
      "18 fastqs have a mean quality score less than19\n"
     ]
    }
   ],
   "source": [
    "#Initialize count, then count the number of fastqs with a mean quality score less than the given threshold\n",
    "count=0\n",
    "for record in list(SeqIO.parse(file, \"fastq\")):\n",
    "    avgQ=stat.mean(record.letter_annotations[\"phred_quality\"])\n",
    "    if avgQ<thresh:\n",
    "        count=count+1\n",
    "print(str(count) + \" fastqs have a mean quality score less than \" + str(thresh))        \n"
   ]
  }
 ],
 "metadata": {
  "kernelspec": {
   "display_name": "Python 3",
   "language": "python",
   "name": "python3"
  },
  "language_info": {
   "codemirror_mode": {
    "name": "ipython",
    "version": 3
   },
   "file_extension": ".py",
   "mimetype": "text/x-python",
   "name": "python",
   "nbconvert_exporter": "python",
   "pygments_lexer": "ipython3",
   "version": "3.7.7"
  }
 },
 "nbformat": 4,
 "nbformat_minor": 4
}
